{
 "cells": [
  {
   "cell_type": "code",
   "execution_count": 26,
   "metadata": {},
   "outputs": [
    {
     "ename": "TypeError",
     "evalue": "Figure.add_trace() got an unexpected keyword argument 'name'",
     "output_type": "error",
     "traceback": [
      "\u001b[1;31m---------------------------------------------------------------------------\u001b[0m",
      "\u001b[1;31mTypeError\u001b[0m                                 Traceback (most recent call last)",
      "\u001b[1;32mh:\\My Drive\\AW Academy Data Engineer\\Modules\\Module 11 Final Project\\Final project\\final_project\\data_sets\\air_quality\\plot_pm25_world.ipynb Cell 1\u001b[0m line \u001b[0;36m3\n\u001b[0;32m     <a href='vscode-notebook-cell:/h%3A/My%20Drive/AW%20Academy%20Data%20Engineer/Modules/Module%2011%20Final%20Project/Final%20project/final_project/data_sets/air_quality/plot_pm25_world.ipynb#W0sZmlsZQ%3D%3D?line=31'>32</a>\u001b[0m selected_continent \u001b[39m=\u001b[39m continents[country_index]\n\u001b[0;32m     <a href='vscode-notebook-cell:/h%3A/My%20Drive/AW%20Academy%20Data%20Engineer/Modules/Module%2011%20Final%20Project/Final%20project/final_project/data_sets/air_quality/plot_pm25_world.ipynb#W0sZmlsZQ%3D%3D?line=33'>34</a>\u001b[0m \u001b[39m# Add traces for Mean, Min, Max\u001b[39;00m\n\u001b[1;32m---> <a href='vscode-notebook-cell:/h%3A/My%20Drive/AW%20Academy%20Data%20Engineer/Modules/Module%2011%20Final%20Project/Final%20project/final_project/data_sets/air_quality/plot_pm25_world.ipynb#W0sZmlsZQ%3D%3D?line=35'>36</a>\u001b[0m fig\u001b[39m.\u001b[39;49madd_trace(go\u001b[39m.\u001b[39;49mScatter(x\u001b[39m=\u001b[39;49myears, y\u001b[39m=\u001b[39;49mselected_pm_max, \n\u001b[0;32m     <a href='vscode-notebook-cell:/h%3A/My%20Drive/AW%20Academy%20Data%20Engineer/Modules/Module%2011%20Final%20Project/Final%20project/final_project/data_sets/air_quality/plot_pm25_world.ipynb#W0sZmlsZQ%3D%3D?line=36'>37</a>\u001b[0m                         mode\u001b[39m=\u001b[39;49m\u001b[39m'\u001b[39;49m\u001b[39mlines\u001b[39;49m\u001b[39m'\u001b[39;49m, line\u001b[39m=\u001b[39;49m\u001b[39mdict\u001b[39;49m(dash\u001b[39m=\u001b[39;49m\u001b[39m'\u001b[39;49m\u001b[39msolid\u001b[39;49m\u001b[39m'\u001b[39;49m, width\u001b[39m=\u001b[39;49m\u001b[39m2\u001b[39;49m, color\u001b[39m=\u001b[39;49mcontinent_colour_map[selected_continent])), \n\u001b[0;32m     <a href='vscode-notebook-cell:/h%3A/My%20Drive/AW%20Academy%20Data%20Engineer/Modules/Module%2011%20Final%20Project/Final%20project/final_project/data_sets/air_quality/plot_pm25_world.ipynb#W0sZmlsZQ%3D%3D?line=37'>38</a>\u001b[0m                         name\u001b[39m=\u001b[39;49m\u001b[39mf\u001b[39;49m\u001b[39m'\u001b[39;49m\u001b[39m{\u001b[39;49;00mcountry\u001b[39m}\u001b[39;49;00m\u001b[39m Max\u001b[39;49m\u001b[39m'\u001b[39;49m),\n\u001b[0;32m     <a href='vscode-notebook-cell:/h%3A/My%20Drive/AW%20Academy%20Data%20Engineer/Modules/Module%2011%20Final%20Project/Final%20project/final_project/data_sets/air_quality/plot_pm25_world.ipynb#W0sZmlsZQ%3D%3D?line=38'>39</a>\u001b[0m \u001b[39m# fig.add_trace(go.Scatter(x=years, y=selected_pm_mean, \u001b[39;00m\n\u001b[0;32m     <a href='vscode-notebook-cell:/h%3A/My%20Drive/AW%20Academy%20Data%20Engineer/Modules/Module%2011%20Final%20Project/Final%20project/final_project/data_sets/air_quality/plot_pm25_world.ipynb#W0sZmlsZQ%3D%3D?line=39'>40</a>\u001b[0m \u001b[39m#                         mode='lines', line=dict(dash='solid', width=1), \u001b[39;00m\n\u001b[0;32m     <a href='vscode-notebook-cell:/h%3A/My%20Drive/AW%20Academy%20Data%20Engineer/Modules/Module%2011%20Final%20Project/Final%20project/final_project/data_sets/air_quality/plot_pm25_world.ipynb#W0sZmlsZQ%3D%3D?line=40'>41</a>\u001b[0m \u001b[39m#                         name=f'{country} Mean'))\u001b[39;00m\n\u001b[1;32m   (...)\u001b[0m\n\u001b[0;32m     <a href='vscode-notebook-cell:/h%3A/My%20Drive/AW%20Academy%20Data%20Engineer/Modules/Module%2011%20Final%20Project/Final%20project/final_project/data_sets/air_quality/plot_pm25_world.ipynb#W0sZmlsZQ%3D%3D?line=45'>46</a>\u001b[0m \n\u001b[0;32m     <a href='vscode-notebook-cell:/h%3A/My%20Drive/AW%20Academy%20Data%20Engineer/Modules/Module%2011%20Final%20Project/Final%20project/final_project/data_sets/air_quality/plot_pm25_world.ipynb#W0sZmlsZQ%3D%3D?line=46'>47</a>\u001b[0m \u001b[39m# Set the continent colour\u001b[39;00m\n\u001b[0;32m     <a href='vscode-notebook-cell:/h%3A/My%20Drive/AW%20Academy%20Data%20Engineer/Modules/Module%2011%20Final%20Project/Final%20project/final_project/data_sets/air_quality/plot_pm25_world.ipynb#W0sZmlsZQ%3D%3D?line=47'>48</a>\u001b[0m fig\u001b[39m.\u001b[39mupdate_traces(line\u001b[39m=\u001b[39m\u001b[39mdict\u001b[39m(color\u001b[39m=\u001b[39mcontinent_colour_map[selected_continent]))\n",
      "\u001b[1;31mTypeError\u001b[0m: Figure.add_trace() got an unexpected keyword argument 'name'"
     ]
    }
   ],
   "source": [
    "import dash\n",
    "from dash import dcc, html, callback, Output, Input\n",
    "import plotly.graph_objs as go\n",
    "import pandas as pd\n",
    "\n",
    "# Import data\n",
    "df_mean = pd.read_csv(\"pm25_mean.csv\")  \n",
    "df_min = pd.read_csv(\"pm25_min.csv\")  \n",
    "df_max = pd.read_csv(\"pm25_max.csv\")  \n",
    "\n",
    "# Define columns to plot\n",
    "years = df_mean.columns[2:12].tolist()\n",
    "countries = df_mean.iloc[1:192, 0].tolist()\n",
    "continents = df_mean.iloc[1:192, 1].tolist()\n",
    "\n",
    "pm_mean = df_mean.iloc[1:192, 2:12].values.tolist()\n",
    "pm_min = df_min.iloc[1:192, 2:12].values.tolist()\n",
    "pm_max = df_max.iloc[1:192, 2:12].values.tolist()\n",
    "\n",
    "continent_colour_map = {\n",
    "    'Africa': 'brown','America': 'green','Asia': 'red', 'Europe': 'orange','Oceania': 'blue'}\n",
    "\n",
    "app = dash.Dash(__name__)\n",
    "\n",
    "\n",
    "fig = go.Figure()\n",
    "\n",
    "for country_index, country in enumerate(countries):\n",
    "    selected_pm_mean = pm_mean[country_index]\n",
    "    selected_pm_min = pm_min[country_index]\n",
    "    selected_pm_max = pm_max[country_index]\n",
    "    selected_continent = continents[country_index]\n",
    "\n",
    "    # Add traces for Mean, Min, Max\n",
    "    \n",
    "    fig.add_trace(go.Scatter(x=years, y=selected_pm_max, \n",
    "                            mode='lines', line=dict(dash='solid', width=2), \n",
    "                            name=f'{country} Max'),\n",
    "    # fig.add_trace(go.Scatter(x=years, y=selected_pm_mean, \n",
    "    #                         mode='lines', line=dict(dash='solid', width=1), \n",
    "    #                         name=f'{country} Mean'))\n",
    "    # fig.add_trace(go.Scatter(x=years, y=selected_pm_min, \n",
    "    #                         mode='lines', line=dict(dash='solid', width=0.5), \n",
    "    #                         name=f'{country} Min', \n",
    "    #                         line=dict(color=continent_colour_map[selected_continent])))\n",
    "\n",
    "    # Set the continent colour\n",
    "    fig.update_traces(line=dict(color=continent_colour_map[selected_continent]))\n",
    "\n",
    "# Set layout\n",
    "fig.update_layout(\n",
    "    title=f'Fine air particles smaller than 2.5 mircometers',\n",
    "    xaxis_title='Year',\n",
    "    yaxis_title='PM2.5 (µg/m³)',\n",
    "    yaxis_range=[0,115],\n",
    "    legend=dict(title='Parameter')\n",
    ")\n",
    "\n",
    "app.layout = html.Div([\n",
    "    dcc.Graph(figure=fig)\n",
    "])\n",
    "\n",
    "if __name__ == '__main__':\n",
    "    app.run_server(debug=True, port=4500)\n"
   ]
  },
  {
   "cell_type": "code",
   "execution_count": null,
   "metadata": {},
   "outputs": [],
   "source": [
    "# Add traces for Mean, Min, Max\n",
    "    # fig.add_trace(go.Scatter(x=years, y=selected_pm_max, \n",
    "    #                         mode='lines', line=dict(dash='solid', width=2), \n",
    "    #                         name=f'{country} Max', \n",
    "    #                         line=dict(color=continent_colour_map[selected_continent])))\n",
    "    fig.add_trace(go.Scatter(x=years, y=selected_pm_mean, \n",
    "                            mode='lines', line=dict(dash='solid', width=1), \n",
    "                            name=f'{country} Mean', \n",
    "                            line=dict(color=continent_colour_map[selected_continent])))\n",
    "    # fig.add_trace(go.Scatter(x=years, y=selected_pm_min, \n",
    "    #                         mode='lines', line=dict(dash='solid', width=0.5), \n",
    "    #                         name=f'{country} Min', \n",
    "    #                         line=dict(color=continent_colour_map[selected_continent]))\n",
    "\n",
    "    # Set the continent colour\n",
    "    fig.update_traces(line=dict(color=continent_colour_map[selected_continent]))\n"
   ]
  }
 ],
 "metadata": {
  "kernelspec": {
   "display_name": "Python 3",
   "language": "python",
   "name": "python3"
  },
  "language_info": {
   "codemirror_mode": {
    "name": "ipython",
    "version": 3
   },
   "file_extension": ".py",
   "mimetype": "text/x-python",
   "name": "python",
   "nbconvert_exporter": "python",
   "pygments_lexer": "ipython3",
   "version": "3.12.0"
  }
 },
 "nbformat": 4,
 "nbformat_minor": 2
}
