{
 "cells": [
  {
   "cell_type": "markdown",
   "metadata": {},
   "source": [
    "# Plot: Global Fine Air Particulates PM2.5 2010-2019\n",
    "\n",
    "Use Dash to plot 3 interactive graphs\n",
    "- Line chart: PM2.5 - Year / All countries, colour coded by continents, WHO guidelines\n",
    "\n",
    "- Line chart: PM2.5 - Year / by country, 2010-2019 dataset (mean, max, min), regression-prediction, actual 2020/2021/2022\n",
    "- tbc\n",
    "\n",
    "Dataset:mean_pm25.csv\n",
    "Good to have: NO2"
   ]
  },
  {
   "cell_type": "markdown",
   "metadata": {},
   "source": [
    "### first draft - colour coding continents not working"
   ]
  },
  {
   "cell_type": "markdown",
   "metadata": {},
   "source": [
    "### Colour coding continents using plotly.graph_objs"
   ]
  },
  {
   "cell_type": "code",
   "execution_count": 32,
   "metadata": {},
   "outputs": [
    {
     "data": {
      "text/html": [
       "\n",
       "        <iframe\n",
       "            width=\"100%\"\n",
       "            height=\"650\"\n",
       "            src=\"http://127.0.0.1:4000/\"\n",
       "            frameborder=\"0\"\n",
       "            allowfullscreen\n",
       "            \n",
       "        ></iframe>\n",
       "        "
      ],
      "text/plain": [
       "<IPython.lib.display.IFrame at 0x24a63058650>"
      ]
     },
     "metadata": {},
     "output_type": "display_data"
    }
   ],
   "source": [
    "import dash\n",
    "from dash import dcc, html, callback, Output, Input\n",
    "import plotly.express as px\n",
    "import plotly.graph_objs as go\n",
    "import pandas as pd\n",
    "\n",
    "\n",
    "# Import data\n",
    "\n",
    "# Existing data from WHO\n",
    "df_mean = pd.read_csv(\"pm25_mean.csv\")  \n",
    "df_min = pd.read_csv(\"pm25_min.csv\")  \n",
    "df_max = pd.read_csv(\"pm25_max.csv\")  \n",
    "\n",
    "# Predictions for 2020-2023\n",
    "df_predict = pd.read_csv(\"predictions_pm25.csv\")\n",
    "\n",
    "\n",
    "# Define columns to plot\n",
    "years = df_predict.columns[2:].tolist()\n",
    "countries = df_mean.iloc[:, 0].tolist()\n",
    "continents = df_mean.iloc[:, 1].tolist()\n",
    "\n",
    "pm_mean = df_mean.iloc[0:, 2:12].values.tolist()\n",
    "pm_min = df_min.iloc[0:, 2:12].values.tolist()\n",
    "pm_max = df_max.iloc[0:, 2:12].values.tolist()\n",
    "\n",
    "pm_predict = df_predict.iloc[:, 11: ].values.tolist()\n",
    "\n",
    "# Define a colour map for the continents\n",
    "\n",
    "continent_colour_map = {\n",
    "    'Africa': 'brown','America': 'green','Asia': 'red', 'Europe': 'orange','Oceania': 'blue'}\n",
    "\n",
    "\n",
    "# Initialise Dash\n",
    "app = dash.Dash(__name__)\n",
    "\n",
    "app.layout = html.Div([\n",
    "    html.Div([\n",
    "        dcc.Dropdown(\n",
    "            id='country-dropdown',\n",
    "            options=[{'label': country, 'value': country} for country in countries],\n",
    "            value=countries[168]\n",
    "        )\n",
    "    ]),\n",
    "    html.Div([\n",
    "        dcc.Graph(id='pm-line-chart')\n",
    "    ])\n",
    "])\n",
    "\n",
    "@app.callback(\n",
    "    Output('pm-line-chart', 'figure'),\n",
    "    [Input('country-dropdown', 'value')]\n",
    ")\n",
    "\n",
    "# Define mean, min and max PM2.5 values to plot\n",
    "\n",
    "def update_line_chart(selected_country):\n",
    "\n",
    "    country_index = countries.index(selected_country)\n",
    "    selected_pm_mean = pm_mean[country_index]\n",
    "    selected_pm_min = pm_min[country_index]\n",
    "    selected_pm_max = pm_max[country_index]\n",
    "\n",
    "    selected_pm_predict = pm_predict[country_index]\n",
    "\n",
    "    selected_continent = continents[country_index]\n",
    "\n",
    "    fig = go.Figure()\n",
    "    \n",
    "\n",
    "# Add traces for Mean, Min, Max\n",
    "\n",
    "    fig.add_trace(go.Scatter(x=years, y=selected_pm_max, \n",
    "                             mode='lines', line=dict(dash='solid', width=2), \n",
    "                             name='Max'))\n",
    "    fig.add_trace(go.Scatter(x=years, y=selected_pm_mean, \n",
    "                             mode='lines', line=dict(dash='solid', width=1), \n",
    "                             name='Mean'))\n",
    "    fig.add_trace(go.Scatter(x=years, y=selected_pm_min, \n",
    "                             mode='lines', line=dict(dash='solid', width=0.5), \n",
    "                             name='Min'))\n",
    "\n",
    "# Add traces for predictions 2020-2023\n",
    "    fig.add_trace(go.Scatter(x=df_predict.columns[11:16], y=selected_pm_predict, \n",
    "                             mode='lines', line=dict(dash='dot', width=1), \n",
    "                             name='Predictions'))\n",
    "    \n",
    "    \n",
    "# Add traces for WHO Air Quality Guidelines\n",
    "\n",
    "    fig.add_trace(go.Scatter(x=('2010', '2018'), y=(10, 10), \n",
    "                         mode='lines', \n",
    "                         line=dict(color='black', dash='dashdot', width=1), \n",
    "                         name='2005 Guidelines'))\n",
    "    fig.add_trace(go.Scatter(x=('2018', '2021'), y=(5.5, 5.5), \n",
    "                         mode='lines', \n",
    "                         line=dict(color='green', dash='dashdot', width=1), \n",
    "                         name='2018 Guidelines'))\n",
    "    fig.add_trace(go.Scatter(x=('2021', '2023'), y=(5, 5), \n",
    "                         mode='lines', \n",
    "                         line=dict(color='blue', dash='dashdot', width=1), \n",
    "                         name='2021 Guidelines'))\n",
    "\n",
    "\n",
    "\n",
    "\n",
    "\n",
    "    \n",
    "# Set the continent colour\n",
    "    fig.update_traces(line=dict(color=continent_colour_map[selected_continent]))\n",
    "\n",
    "    # Set layout\n",
    "\n",
    "    fig.update_layout(\n",
    "        title=f'Fine air particulates 2010-2019: {selected_country}',\n",
    "        xaxis_title='Year',\n",
    "        yaxis_title='PM2.5 (µg/m³)',\n",
    "        yaxis_range=[0,115],\n",
    "        legend=dict(title='Parameter')\n",
    "        )\n",
    "\n",
    "    return fig\n",
    "\n",
    "if __name__ == '__main__':\n",
    "    app.run_server(debug=True, port=4000)\n"
   ]
  },
  {
   "cell_type": "code",
   "execution_count": 23,
   "metadata": {},
   "outputs": [
    {
     "data": {
      "text/plain": [
       "['2010',\n",
       " '2011',\n",
       " '2012',\n",
       " '2013',\n",
       " '2014',\n",
       " '2015',\n",
       " '2016',\n",
       " '2017',\n",
       " '2018',\n",
       " '2019',\n",
       " '2020',\n",
       " '2021',\n",
       " '2022',\n",
       " '2023']"
      ]
     },
     "execution_count": 23,
     "metadata": {},
     "output_type": "execute_result"
    }
   ],
   "source": [
    "years\n"
   ]
  }
 ],
 "metadata": {
  "kernelspec": {
   "display_name": "Python 3",
   "language": "python",
   "name": "python3"
  },
  "language_info": {
   "codemirror_mode": {
    "name": "ipython",
    "version": 3
   },
   "file_extension": ".py",
   "mimetype": "text/x-python",
   "name": "python",
   "nbconvert_exporter": "python",
   "pygments_lexer": "ipython3",
   "version": "3.12.0"
  }
 },
 "nbformat": 4,
 "nbformat_minor": 2
}
