{
 "cells": [
  {
   "cell_type": "markdown",
   "metadata": {},
   "source": [
    "# Plot: Global Fine Air Particulates PM2.5 2010-2019\n",
    "\n",
    "Use Dash to plot 3 interactive graphs\n",
    "- Line chart: PM2.5 - Year / All countries, colour coded by continents, WHO guidelines\n",
    "\n",
    "- Line chart: PM2.5 - Year / by country, 2010-2019 dataset (mean, max, min), regression-prediction, actual 2020/2021/2022\n",
    "- tbc\n",
    "\n",
    "Dataset:mean_pm25.csv\n",
    "Good to have: NO2"
   ]
  },
  {
   "cell_type": "code",
   "execution_count": 21,
   "metadata": {},
   "outputs": [
    {
     "data": {
      "text/html": [
       "\n",
       "        <iframe\n",
       "            width=\"100%\"\n",
       "            height=\"650\"\n",
       "            src=\"http://127.0.0.1:4000/\"\n",
       "            frameborder=\"0\"\n",
       "            allowfullscreen\n",
       "            \n",
       "        ></iframe>\n",
       "        "
      ],
      "text/plain": [
       "<IPython.lib.display.IFrame at 0x126238d6b10>"
      ]
     },
     "metadata": {},
     "output_type": "display_data"
    }
   ],
   "source": [
    "import dash\n",
    "from dash import dcc, html, callback, Output, Input\n",
    "import plotly.express as px\n",
    "import pandas as pd\n",
    "\n",
    "# Import data\n",
    "df_mean = pd.read_csv(\"pm25_mean.csv\")  \n",
    "df_min = pd.read_csv(\"pm25_min.csv\")  \n",
    "df_max = pd.read_csv(\"pm25_max.csv\")  \n",
    "\n",
    "\n",
    "# Define columns\n",
    "years = df_mean.columns[2:12].tolist()\n",
    "countries = df_mean.iloc[1:192, 0].tolist()\n",
    "continents = df_mean.iloc[1:192, 1].tolist()\n",
    "\n",
    "pm_mean = df_mean.iloc[1:192, 2:12].values.tolist()\n",
    "pm_min = df_min.iloc[1:192, 2:12].values.tolist()\n",
    "pm_max = df_max.iloc[1:192, 2:12].values.tolist()\n",
    "\n",
    "\n",
    "app = dash.Dash(__name__)\n",
    "\n",
    "app.layout = html.Div([\n",
    "    html.Div([\n",
    "        dcc.Dropdown(\n",
    "            id='country-dropdown',\n",
    "            options=[{'label': country, 'value': country} for country in countries],\n",
    "            value=countries[0]\n",
    "        )\n",
    "    ]),\n",
    "    html.Div([\n",
    "        dcc.Graph(id='pm-line-chart')\n",
    "    ])\n",
    "])\n",
    "\n",
    "@app.callback(\n",
    "    Output('pm-line-chart', 'figure'),\n",
    "    [Input('country-dropdown', 'value')]\n",
    ")\n",
    "def update_line_chart(selected_country):\n",
    "    country_index = countries.index(selected_country)\n",
    "    selected_pm_mean = pm_mean[country_index]\n",
    "    selected_pm_min = pm_min[country_index]\n",
    "    selected_pm_max = pm_max[country_index]\n",
    "\n",
    "    fig = px.line(x=years, y=selected_pm_mean, labels={'y':'PM2.5 (µg/m³)', }, title=f'Amount of fine air particles smaller than 2.5 mircometers: {selected_country}')\n",
    "    fig.update_yaxes(range=[0,115])\n",
    "    fig.update_traces(name='Mean')\n",
    "\n",
    "    fig.add_scatter(x=years, y=selected_pm_max, mode='lines', name='Max')\n",
    "    fig.add_scatter(x=years, y=selected_pm_min, mode='lines', name='Min')\n",
    "\n",
    "    return fig\n",
    "\n",
    "if __name__ == '__main__':\n",
    "    app.run_server(debug=True, port=4000)\n"
   ]
  },
  {
   "cell_type": "code",
   "execution_count": null,
   "metadata": {},
   "outputs": [],
   "source": []
  }
 ],
 "metadata": {
  "kernelspec": {
   "display_name": "Python 3",
   "language": "python",
   "name": "python3"
  },
  "language_info": {
   "codemirror_mode": {
    "name": "ipython",
    "version": 3
   },
   "file_extension": ".py",
   "mimetype": "text/x-python",
   "name": "python",
   "nbconvert_exporter": "python",
   "pygments_lexer": "ipython3",
   "version": "3.12.0"
  }
 },
 "nbformat": 4,
 "nbformat_minor": 2
}
