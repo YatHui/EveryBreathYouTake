{
 "cells": [
  {
   "cell_type": "code",
   "execution_count": 6,
   "metadata": {},
   "outputs": [],
   "source": [
    "import pandas as pd\n",
    "import psycopg2\n",
    "from secret_info import master_username,master_password,database_name,port as p,url"
   ]
  },
  {
   "cell_type": "code",
   "execution_count": 7,
   "metadata": {},
   "outputs": [],
   "source": [
    "def fetch_data_from_rds(endpoint, database, user, password,port,query):\n",
    "    \"\"\"Connect to PostgreSQL database and fetch data.\"\"\"\n",
    "    conn = psycopg2.connect(\n",
    "        host=endpoint,\n",
    "        database=database,\n",
    "        user=user,\n",
    "        password=password,\n",
    "        port = port\n",
    "    )    \n",
    "    # Using pandas to run SQL and load result into DataFrame\n",
    "    df = pd.read_sql(query, conn)\n",
    "    # Close the connection\n",
    "    conn.close()\n",
    "    return df"
   ]
  },
  {
   "cell_type": "code",
   "execution_count": 8,
   "metadata": {},
   "outputs": [
    {
     "name": "stdout",
     "output_type": "stream",
     "text": [
      "   id project    member  awesome\n",
      "0   1   Final      Araz     True\n",
      "1   2   Final       Yat     True\n",
      "2   3   Final  Patricia     True\n",
      "3   4   Final    Robert     True\n",
      "4   5   Final   Charlie     True\n"
     ]
    },
    {
     "name": "stderr",
     "output_type": "stream",
     "text": [
      "C:\\Users\\robba\\AppData\\Local\\Temp\\ipykernel_2928\\3575338639.py:11: UserWarning: pandas only supports SQLAlchemy connectable (engine/connection) or database string URI or sqlite3 DBAPI2 connection. Other DBAPI2 objects are not tested. Please consider using SQLAlchemy.\n",
      "  df = pd.read_sql(query, conn)\n"
     ]
    }
   ],
   "source": [
    "# Your RDS details\n",
    "endpoint = url\n",
    "database = database_name\n",
    "user = master_username\n",
    "password = master_password\n",
    "port = p\n",
    "\n",
    "# Your SQL query\n",
    "query = \"SELECT * FROM test LIMIT 5;\"\n",
    "\n",
    "df = fetch_data_from_rds(endpoint, database, user, password,port,query)\n",
    "print(df)"
   ]
  },
  {
   "cell_type": "code",
   "execution_count": null,
   "metadata": {},
   "outputs": [],
   "source": []
  },
  {
   "cell_type": "code",
   "execution_count": null,
   "metadata": {},
   "outputs": [],
   "source": []
  }
 ],
 "metadata": {
  "kernelspec": {
   "display_name": "Python 3",
   "language": "python",
   "name": "python3"
  },
  "language_info": {
   "codemirror_mode": {
    "name": "ipython",
    "version": 3
   },
   "file_extension": ".py",
   "mimetype": "text/x-python",
   "name": "python",
   "nbconvert_exporter": "python",
   "pygments_lexer": "ipython3",
   "version": "3.9.7"
  }
 },
 "nbformat": 4,
 "nbformat_minor": 2
}
