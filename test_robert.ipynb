{
 "cells": [
  {
   "cell_type": "code",
   "execution_count": 1,
   "metadata": {},
   "outputs": [],
   "source": [
    "import pandas as pd\n",
    "import psycopg2\n",
    "from secret_info import master_username,master_password,database_name,port as p,url"
   ]
  },
  {
   "cell_type": "code",
   "execution_count": 2,
   "metadata": {},
   "outputs": [],
   "source": [
    "def fetch_data_from_rds(endpoint, database, user, password,port,query):\n",
    "    \"\"\"Connect to PostgreSQL database and fetch data.\"\"\"\n",
    "    conn = psycopg2.connect(\n",
    "        host=endpoint,\n",
    "        database=database,\n",
    "        user=user,\n",
    "        password=password,\n",
    "        port = port\n",
    "    )    \n",
    "    # Using pandas to run SQL and load result into DataFrame\n",
    "    df = pd.read_sql(query, conn)\n",
    "    df = pd.DataFrame(df)\n",
    "    # Close the connection\n",
    "    conn.close()\n",
    "    return df"
   ]
  },
  {
   "cell_type": "code",
   "execution_count": 3,
   "metadata": {},
   "outputs": [
    {
     "name": "stdout",
     "output_type": "stream",
     "text": [
      "   id project    member  awesome\n",
      "0   1   Final      Araz     True\n",
      "1   2   Final       Yat     True\n",
      "2   3   Final  Patricia     True\n",
      "3   4   Final    Robert     True\n",
      "4   5   Final   Charlie     True\n"
     ]
    },
    {
     "name": "stderr",
     "output_type": "stream",
     "text": [
      "C:\\Users\\robba\\AppData\\Local\\Temp\\ipykernel_8328\\3244071168.py:11: UserWarning: pandas only supports SQLAlchemy connectable (engine/connection) or database string URI or sqlite3 DBAPI2 connection. Other DBAPI2 objects are not tested. Please consider using SQLAlchemy.\n",
      "  df = pd.read_sql(query, conn)\n"
     ]
    }
   ],
   "source": [
    "# Your RDS details\n",
    "endpoint = url\n",
    "database = database_name\n",
    "user = master_username\n",
    "password = master_password\n",
    "port = p\n",
    "\n",
    "# Your SQL query\n",
    "query = \"SELECT * FROM test LIMIT 5;\"\n",
    "\n",
    "df = fetch_data_from_rds(endpoint, database, user, password,port,query)\n",
    "print(df)"
   ]
  },
  {
   "cell_type": "code",
   "execution_count": null,
   "metadata": {},
   "outputs": [],
   "source": []
  },
  {
   "cell_type": "code",
   "execution_count": 4,
   "metadata": {},
   "outputs": [
    {
     "name": "stderr",
     "output_type": "stream",
     "text": [
      "C:\\Users\\robba\\AppData\\Local\\Temp\\ipykernel_8328\\3244071168.py:11: UserWarning: pandas only supports SQLAlchemy connectable (engine/connection) or database string URI or sqlite3 DBAPI2 connection. Other DBAPI2 objects are not tested. Please consider using SQLAlchemy.\n",
      "  df = pd.read_sql(query, conn)\n"
     ]
    },
    {
     "data": {
      "text/html": [
       "<div>\n",
       "<style scoped>\n",
       "    .dataframe tbody tr th:only-of-type {\n",
       "        vertical-align: middle;\n",
       "    }\n",
       "\n",
       "    .dataframe tbody tr th {\n",
       "        vertical-align: top;\n",
       "    }\n",
       "\n",
       "    .dataframe thead th {\n",
       "        text-align: right;\n",
       "    }\n",
       "</style>\n",
       "<table border=\"1\" class=\"dataframe\">\n",
       "  <thead>\n",
       "    <tr style=\"text-align: right;\">\n",
       "      <th></th>\n",
       "      <th>Location</th>\n",
       "      <th>Code</th>\n",
       "      <th>Year</th>\n",
       "      <th>Death from household air pollution from solid fuels</th>\n",
       "      <th>Death from ambient particulate matter pollution</th>\n",
       "      <th>Death from all causes attributed to air pollution</th>\n",
       "      <th>Death from ambient ozone pollution</th>\n",
       "      <th>DALYs attributed to air pollution</th>\n",
       "      <th>DALYs attributed to household air pollution</th>\n",
       "      <th>DALYs attributed ambient particulate matter pollution</th>\n",
       "      <th>PM 2.5 Airpollution</th>\n",
       "      <th>Value</th>\n",
       "    </tr>\n",
       "  </thead>\n",
       "  <tbody>\n",
       "    <tr>\n",
       "      <th>1945</th>\n",
       "      <td>Zimbabwe</td>\n",
       "      <td>ZWE</td>\n",
       "      <td>2015</td>\n",
       "      <td>143.47795</td>\n",
       "      <td>38.99684</td>\n",
       "      <td>183.04463</td>\n",
       "      <td>1.09122</td>\n",
       "      <td>653410.94</td>\n",
       "      <td>520155.28</td>\n",
       "      <td>132720.83</td>\n",
       "      <td>15.13</td>\n",
       "      <td>15.13 [7.18 – 28.7]</td>\n",
       "    </tr>\n",
       "    <tr>\n",
       "      <th>1946</th>\n",
       "      <td>Zimbabwe</td>\n",
       "      <td>ZWE</td>\n",
       "      <td>2016</td>\n",
       "      <td>140.64325</td>\n",
       "      <td>37.586</td>\n",
       "      <td>179.06064</td>\n",
       "      <td>1.2315396</td>\n",
       "      <td>641920.2</td>\n",
       "      <td>512118.97</td>\n",
       "      <td>128623.75</td>\n",
       "      <td>14.99</td>\n",
       "      <td>14.99 [7.19 – 28.19]</td>\n",
       "    </tr>\n",
       "    <tr>\n",
       "      <th>1947</th>\n",
       "      <td>Zimbabwe</td>\n",
       "      <td>ZWE</td>\n",
       "      <td>2017</td>\n",
       "      <td>137.44838</td>\n",
       "      <td>35.811024</td>\n",
       "      <td>174.04881</td>\n",
       "      <td>1.4475582</td>\n",
       "      <td>625386.4</td>\n",
       "      <td>501662.5</td>\n",
       "      <td>122945.07</td>\n",
       "      <td>15.09</td>\n",
       "      <td>15.09 [7.19 – 28.55]</td>\n",
       "    </tr>\n",
       "    <tr>\n",
       "      <th>1948</th>\n",
       "      <td>Zimbabwe</td>\n",
       "      <td>ZWE</td>\n",
       "      <td>2018</td>\n",
       "      <td>133.92303</td>\n",
       "      <td>34.932823</td>\n",
       "      <td>169.53406</td>\n",
       "      <td>1.4073888</td>\n",
       "      <td>609545.3</td>\n",
       "      <td>488932.9</td>\n",
       "      <td>120112.45</td>\n",
       "      <td>14.98</td>\n",
       "      <td>14.98 [7.22 – 28.13]</td>\n",
       "    </tr>\n",
       "    <tr>\n",
       "      <th>1949</th>\n",
       "      <td>Zimbabwe</td>\n",
       "      <td>ZWE</td>\n",
       "      <td>2019</td>\n",
       "      <td>130.5083</td>\n",
       "      <td>34.4046</td>\n",
       "      <td>165.7244</td>\n",
       "      <td>1.4359336</td>\n",
       "      <td>600330.0</td>\n",
       "      <td>480041.84</td>\n",
       "      <td>119444.164</td>\n",
       "      <td>15.01</td>\n",
       "      <td>15.01 [7.2 – 28.24]</td>\n",
       "    </tr>\n",
       "  </tbody>\n",
       "</table>\n",
       "</div>"
      ],
      "text/plain": [
       "      Location Code  Year Death from household air pollution from solid fuels  \\\n",
       "1945  Zimbabwe  ZWE  2015                                          143.47795    \n",
       "1946  Zimbabwe  ZWE  2016                                          140.64325    \n",
       "1947  Zimbabwe  ZWE  2017                                          137.44838    \n",
       "1948  Zimbabwe  ZWE  2018                                          133.92303    \n",
       "1949  Zimbabwe  ZWE  2019                                           130.5083    \n",
       "\n",
       "     Death from ambient particulate matter pollution  \\\n",
       "1945                                        38.99684   \n",
       "1946                                          37.586   \n",
       "1947                                       35.811024   \n",
       "1948                                       34.932823   \n",
       "1949                                         34.4046   \n",
       "\n",
       "     Death from all causes attributed to air pollution  \\\n",
       "1945                                         183.04463   \n",
       "1946                                         179.06064   \n",
       "1947                                         174.04881   \n",
       "1948                                         169.53406   \n",
       "1949                                          165.7244   \n",
       "\n",
       "     Death from ambient ozone pollution DALYs attributed to air pollution  \\\n",
       "1945                            1.09122                         653410.94   \n",
       "1946                          1.2315396                          641920.2   \n",
       "1947                          1.4475582                          625386.4   \n",
       "1948                          1.4073888                          609545.3   \n",
       "1949                          1.4359336                          600330.0   \n",
       "\n",
       "     DALYs attributed to household air pollution  \\\n",
       "1945                                   520155.28   \n",
       "1946                                   512118.97   \n",
       "1947                                    501662.5   \n",
       "1948                                    488932.9   \n",
       "1949                                   480041.84   \n",
       "\n",
       "     DALYs attributed ambient particulate matter pollution  \\\n",
       "1945                                          132720.83      \n",
       "1946                                          128623.75      \n",
       "1947                                          122945.07      \n",
       "1948                                          120112.45      \n",
       "1949                                         119444.164      \n",
       "\n",
       "      PM 2.5 Airpollution                 Value  \n",
       "1945                15.13   15.13 [7.18 – 28.7]  \n",
       "1946                14.99  14.99 [7.19 – 28.19]  \n",
       "1947                15.09  15.09 [7.19 – 28.55]  \n",
       "1948                14.98  14.98 [7.22 – 28.13]  \n",
       "1949                15.01   15.01 [7.2 – 28.24]  "
      ]
     },
     "execution_count": 4,
     "metadata": {},
     "output_type": "execute_result"
    }
   ],
   "source": [
    "# Your RDS details\n",
    "endpoint = url\n",
    "database = database_name\n",
    "user = master_username\n",
    "password = master_password\n",
    "port = p\n",
    "\n",
    "# Your SQL query\n",
    "query = \"SELECT * FROM health_and_air_2010_2019;\"\n",
    "\n",
    "df = fetch_data_from_rds(endpoint, database, user, password,port,query)\n",
    "df.tail()"
   ]
  },
  {
   "cell_type": "code",
   "execution_count": 5,
   "metadata": {},
   "outputs": [
    {
     "data": {
      "text/html": [
       "<div>\n",
       "<style scoped>\n",
       "    .dataframe tbody tr th:only-of-type {\n",
       "        vertical-align: middle;\n",
       "    }\n",
       "\n",
       "    .dataframe tbody tr th {\n",
       "        vertical-align: top;\n",
       "    }\n",
       "\n",
       "    .dataframe thead th {\n",
       "        text-align: right;\n",
       "    }\n",
       "</style>\n",
       "<table border=\"1\" class=\"dataframe\">\n",
       "  <thead>\n",
       "    <tr style=\"text-align: right;\">\n",
       "      <th></th>\n",
       "      <th>Location</th>\n",
       "      <th>Code</th>\n",
       "      <th>Year</th>\n",
       "      <th>Death from household air pollution from solid fuels</th>\n",
       "      <th>Death from ambient particulate matter pollution</th>\n",
       "      <th>Death from all causes attributed to air pollution</th>\n",
       "      <th>Death from ambient ozone pollution</th>\n",
       "      <th>DALYs attributed to air pollution</th>\n",
       "      <th>DALYs attributed to household air pollution</th>\n",
       "      <th>DALYs attributed ambient particulate matter pollution</th>\n",
       "      <th>PM 2.5 Airpollution</th>\n",
       "      <th>Value</th>\n",
       "    </tr>\n",
       "  </thead>\n",
       "  <tbody>\n",
       "    <tr>\n",
       "      <th>1949</th>\n",
       "      <td>Zimbabwe</td>\n",
       "      <td>ZWE</td>\n",
       "      <td>2019</td>\n",
       "      <td>130.5083</td>\n",
       "      <td>34.4046</td>\n",
       "      <td>165.7244</td>\n",
       "      <td>1.4359336</td>\n",
       "      <td>600330.0</td>\n",
       "      <td>480041.84</td>\n",
       "      <td>119444.164</td>\n",
       "      <td>15.01</td>\n",
       "      <td>15.01 [7.2 – 28.24]</td>\n",
       "    </tr>\n",
       "  </tbody>\n",
       "</table>\n",
       "</div>"
      ],
      "text/plain": [
       "      Location Code  Year Death from household air pollution from solid fuels  \\\n",
       "1949  Zimbabwe  ZWE  2019                                           130.5083    \n",
       "\n",
       "     Death from ambient particulate matter pollution  \\\n",
       "1949                                         34.4046   \n",
       "\n",
       "     Death from all causes attributed to air pollution  \\\n",
       "1949                                          165.7244   \n",
       "\n",
       "     Death from ambient ozone pollution DALYs attributed to air pollution  \\\n",
       "1949                          1.4359336                          600330.0   \n",
       "\n",
       "     DALYs attributed to household air pollution  \\\n",
       "1949                                   480041.84   \n",
       "\n",
       "     DALYs attributed ambient particulate matter pollution  \\\n",
       "1949                                         119444.164      \n",
       "\n",
       "      PM 2.5 Airpollution                Value  \n",
       "1949                15.01  15.01 [7.2 – 28.24]  "
      ]
     },
     "execution_count": 5,
     "metadata": {},
     "output_type": "execute_result"
    }
   ],
   "source": [
    "df.tail(1)"
   ]
  },
  {
   "cell_type": "code",
   "execution_count": 11,
   "metadata": {},
   "outputs": [],
   "source": [
    "x = df.loc[0][\"Death from household air pollution from solid fuels\"]"
   ]
  },
  {
   "cell_type": "code",
   "execution_count": 7,
   "metadata": {},
   "outputs": [
    {
     "data": {
      "text/plain": [
       "str"
      ]
     },
     "execution_count": 7,
     "metadata": {},
     "output_type": "execute_result"
    }
   ],
   "source": [
    "type(x)"
   ]
  },
  {
   "cell_type": "code",
   "execution_count": 8,
   "metadata": {},
   "outputs": [
    {
     "data": {
      "text/plain": [
       "pandas.core.frame.DataFrame"
      ]
     },
     "execution_count": 8,
     "metadata": {},
     "output_type": "execute_result"
    }
   ],
   "source": [
    "type(df)"
   ]
  },
  {
   "cell_type": "code",
   "execution_count": 9,
   "metadata": {},
   "outputs": [],
   "source": [
    "# Extract the main value from \"Value\" column and convert to float\n",
    "df['Value'] = df['Value'].str.split(' ').str[0].astype(float)\n",
    "\n",
    "# Convert all columns to float except 'Location', 'Code', 'Year' and round to 2 decimals\n",
    "for column in df.columns:\n",
    "    if column not in ['Location', 'Code', 'Year']:\n",
    "        df[column] = df[column].astype(float).round(2)"
   ]
  },
  {
   "cell_type": "code",
   "execution_count": 12,
   "metadata": {},
   "outputs": [
    {
     "data": {
      "text/plain": [
       "numpy.float64"
      ]
     },
     "execution_count": 12,
     "metadata": {},
     "output_type": "execute_result"
    }
   ],
   "source": [
    "x = df.loc[0][\"Death from household air pollution from solid fuels\"]\n",
    "type(x)"
   ]
  },
  {
   "cell_type": "code",
   "execution_count": 13,
   "metadata": {},
   "outputs": [
    {
     "data": {
      "text/plain": [
       "0       92.79\n",
       "1       89.57\n",
       "2       92.04\n",
       "3       97.49\n",
       "4       91.92\n",
       "        ...  \n",
       "1945    15.13\n",
       "1946    14.99\n",
       "1947    15.09\n",
       "1948    14.98\n",
       "1949    15.01\n",
       "Name: Value, Length: 1950, dtype: float64"
      ]
     },
     "execution_count": 13,
     "metadata": {},
     "output_type": "execute_result"
    }
   ],
   "source": [
    "df['Value']"
   ]
  },
  {
   "cell_type": "code",
   "execution_count": null,
   "metadata": {},
   "outputs": [],
   "source": []
  }
 ],
 "metadata": {
  "kernelspec": {
   "display_name": "Python 3",
   "language": "python",
   "name": "python3"
  },
  "language_info": {
   "codemirror_mode": {
    "name": "ipython",
    "version": 3
   },
   "file_extension": ".py",
   "mimetype": "text/x-python",
   "name": "python",
   "nbconvert_exporter": "python",
   "pygments_lexer": "ipython3",
   "version": "3.9.7"
  }
 },
 "nbformat": 4,
 "nbformat_minor": 2
}
