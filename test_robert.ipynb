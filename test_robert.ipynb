{
 "cells": [
  {
   "cell_type": "code",
   "execution_count": 2,
   "metadata": {},
   "outputs": [],
   "source": [
    "import pandas as pd\n",
    "import psycopg2"
   ]
  },
  {
   "cell_type": "code",
   "execution_count": 3,
   "metadata": {},
   "outputs": [],
   "source": [
    "def fetch_data_from_rds(endpoint, database, user, password, query):\n",
    "    \"\"\"Connect to PostgreSQL database and fetch data.\"\"\"\n",
    "    conn = psycopg2.connect(\n",
    "        host=endpoint,\n",
    "        database=database,\n",
    "        user=user,\n",
    "        password=password\n",
    "    )\n",
    "    \n",
    "    # Using pandas to run SQL and load result into DataFrame\n",
    "    df = pd.read_sql(query, conn)\n",
    "    \n",
    "    # Close the connection\n",
    "    conn.close()\n",
    "    \n",
    "    return df"
   ]
  },
  {
   "cell_type": "code",
   "execution_count": null,
   "metadata": {},
   "outputs": [],
   "source": [
    "# Your RDS details\n",
    "endpoint = \"your-rds-endpoint.amazonaws.com\"\n",
    "database = \"your-database-name\"\n",
    "user = \"your-username\"\n",
    "password = \"your-password\"\n",
    "\n",
    "# Your SQL query\n",
    "query = \"SELECT * FROM your_table_name LIMIT 10;\"\n",
    "\n",
    "df = fetch_data_from_rds(endpoint, database, user, password, query)\n",
    "print(df)"
   ]
  }
 ],
 "metadata": {
  "kernelspec": {
   "display_name": "Python 3",
   "language": "python",
   "name": "python3"
  },
  "language_info": {
   "codemirror_mode": {
    "name": "ipython",
    "version": 3
   },
   "file_extension": ".py",
   "mimetype": "text/x-python",
   "name": "python",
   "nbconvert_exporter": "python",
   "pygments_lexer": "ipython3",
   "version": "3.9.7"
  }
 },
 "nbformat": 4,
 "nbformat_minor": 2
}
